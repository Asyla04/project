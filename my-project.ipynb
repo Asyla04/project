{
 "cells": [
  {
   "cell_type": "code",
   "execution_count": 1,
   "id": "e613684c",
   "metadata": {},
   "outputs": [
    {
     "name": "stdout",
     "output_type": "stream",
     "text": [
      "Введите ваше имя: ВСыс\n",
      "Привет, ВСыс! Добро пожаловать в Git.\n"
     ]
    }
   ],
   "source": [
    "def greet_user():\n",
    "    name = input(\"Введите ваше имя: \")\n",
    "    print(f\"Привет, {name}! Добро пожаловать в Git.\")\n",
    "\n",
    "greet_user()"
   ]
  }
 ],
 "metadata": {
  "kernelspec": {
   "display_name": "Python 3 (ipykernel)",
   "language": "python",
   "name": "python3"
  },
  "language_info": {
   "codemirror_mode": {
    "name": "ipython",
    "version": 3
   },
   "file_extension": ".py",
   "mimetype": "text/x-python",
   "name": "python",
   "nbconvert_exporter": "python",
   "pygments_lexer": "ipython3",
   "version": "3.11.4"
  }
 },
 "nbformat": 4,
 "nbformat_minor": 5
}
